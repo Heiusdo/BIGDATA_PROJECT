{
 "cells": [
  {
   "cell_type": "code",
   "execution_count": 4,
   "metadata": {
    "id": "SuXG8TwqqA2Z"
   },
   "outputs": [],
   "source": [
    "import zipfile\n",
    "import os, subprocess\n",
    "\n",
    "# Replace 'your_file.zip' with the name of your uploaded zip file\n",
    "with zipfile.ZipFile('lr_model.zip', 'r') as zip_ref:\n",
    "    zip_ref.extractall('lr_model')"
   ]
  },
  {
   "cell_type": "code",
   "execution_count": 5,
   "metadata": {
    "id": "1GfDnLo7qMAq"
   },
   "outputs": [],
   "source": [
    "from pyspark.sql import SparkSession\n",
    "\n",
    "# Initialize Spark session\n",
    "spark = SparkSession.builder.appName(\"LogisticRegressionModel\").getOrCreate()"
   ]
  },
  {
   "cell_type": "code",
   "execution_count": 4,
   "metadata": {},
   "outputs": [
    {
     "name": "stdout",
     "output_type": "stream",
     "text": [
      "PATH contains Hadoop: False\n"
     ]
    },
    {
     "name": "stderr",
     "output_type": "stream",
     "text": [
      "<>:2: SyntaxWarning: invalid escape sequence '\\h'\n",
      "<>:2: SyntaxWarning: invalid escape sequence '\\h'\n",
      "C:\\Users\\hieud\\AppData\\Local\\Temp\\ipykernel_22948\\362131103.py:2: SyntaxWarning: invalid escape sequence '\\h'\n",
      "  print(\"PATH contains Hadoop:\", 'C:\\hadoop\\hadoop-3.4.0\\bin' in os.getenv(\"PATH\"))\n"
     ]
    }
   ],
   "source": [
    "import os\n",
    "print(\"PATH contains Hadoop:\", 'C:\\hadoop\\hadoop-3.4.0\\bin' in os.getenv(\"PATH\"))"
   ]
  },
  {
   "cell_type": "code",
   "execution_count": 1,
   "metadata": {},
   "outputs": [
    {
     "name": "stdout",
     "output_type": "stream",
     "text": [
      "JAVA_HOME: C:\\Program Files\\Java\\jdk-17\n",
      "PATH contains Hadoop: False\n"
     ]
    },
    {
     "name": "stderr",
     "output_type": "stream",
     "text": [
      "<>:3: SyntaxWarning: invalid escape sequence '\\h'\n",
      "<>:3: SyntaxWarning: invalid escape sequence '\\h'\n",
      "C:\\Users\\hieud\\AppData\\Local\\Temp\\ipykernel_20996\\3038303829.py:3: SyntaxWarning: invalid escape sequence '\\h'\n",
      "  print(\"PATH contains Hadoop:\", 'C:\\hadoop\\hadoop-3.4.0\\bin' in os.getenv(\"PATH\"))\n"
     ]
    }
   ],
   "source": [
    "import os\n",
    "print(\"JAVA_HOME:\", os.getenv(\"JAVA_HOME\"))\n",
    "print(\"PATH contains Hadoop:\", 'C:\\hadoop\\hadoop-3.4.0\\bin' in os.getenv(\"PATH\"))"
   ]
  },
  {
   "cell_type": "code",
   "execution_count": 6,
   "metadata": {
    "colab": {
     "base_uri": "https://localhost:8080/"
    },
    "id": "_XN-u4OTqRiY",
    "outputId": "53361061-453a-4e91-8a18-99cf9b4f5151"
   },
   "outputs": [
    {
     "name": "stdout",
     "output_type": "stream",
     "text": [
      "+--------------------+-----+----------+\n",
      "|            features|label|prediction|\n",
      "+--------------------+-----+----------+\n",
      "|(48,[3,6,16,20,22...|  0.0|       1.0|\n",
      "|(48,[3,14,16,19,2...|  0.0|       0.0|\n",
      "|(48,[3,13,17,19,2...|  0.0|       0.0|\n",
      "|(48,[3,14,16,19,2...|  0.0|       0.0|\n",
      "|(48,[3,10,16,20,2...|  0.0|       0.0|\n",
      "|(48,[3,13,16,19,2...|  0.0|       0.0|\n",
      "|(48,[3,14,16,18,2...|  0.0|       0.0|\n",
      "|(48,[3,10,17,20,2...|  0.0|       0.0|\n",
      "|(48,[3,7,16,20,23...|  0.0|       0.0|\n",
      "|(48,[3,10,16,19,2...|  0.0|       0.0|\n",
      "|(48,[3,11,16,21,2...|  0.0|       0.0|\n",
      "|(48,[3,4,16,19,24...|  0.0|       0.0|\n",
      "|(48,[3,8,17,20,22...|  0.0|       0.0|\n",
      "|(48,[3,8,16,19,22...|  0.0|       0.0|\n",
      "|(48,[3,13,16,20,2...|  0.0|       0.0|\n",
      "|(48,[3,5,16,19,22...|  0.0|       0.0|\n",
      "|(48,[3,11,16,18,2...|  0.0|       0.0|\n",
      "|(48,[3,4,17,19,22...|  0.0|       0.0|\n",
      "|(48,[3,8,17,20,22...|  0.0|       0.0|\n",
      "|(48,[3,9,16,19,23...|  0.0|       0.0|\n",
      "+--------------------+-----+----------+\n",
      "only showing top 20 rows\n",
      "\n"
     ]
    }
   ],
   "source": [
    "from pyspark.ml.classification import LogisticRegressionModel\n",
    "import os, subprocess, sys\n",
    "\n",
    "\n",
    "# Load the model\n",
    "loaded_model = LogisticRegressionModel.load(\"lr_model\")\n",
    "\n",
    "# Load the DataFrames\n",
    "train_data = spark.read.parquet(\"lr_model/train_data.parquet\")\n",
    "test_data = spark.read.parquet(\"lr_model/test_data.parquet\")\n",
    "\n",
    "# Make predictions with the loaded model\n",
    "predictions = loaded_model.transform(test_data)\n",
    "predictions.select(\"features\", \"label\", \"prediction\").show()"
   ]
  },
  {
   "cell_type": "code",
   "execution_count": 9,
   "metadata": {
    "id": "Xfg3log4qUIp"
   },
   "outputs": [],
   "source": [
    "from pyspark.ml.evaluation import MulticlassClassificationEvaluator\n",
    "\n",
    "evaluator = MulticlassClassificationEvaluator(labelCol=\"label\", predictionCol=\"prediction\", metricName=\"accuracy\")\n",
    "accuracy = evaluator.evaluate(predictions)\n",
    "recall = evaluator.evaluate(predictions, {evaluator.metricName: \"recallByLabel\"})\n",
    "precision = evaluator.evaluate(predictions, {evaluator.metricName: \"precisionByLabel\"})\n",
    "error_rate = evaluator.evaluate(predictions, {evaluator.metricName: \"weightedFalsePositiveRate\"})"
   ]
  },
  {
   "cell_type": "code",
   "execution_count": 10,
   "metadata": {
    "colab": {
     "base_uri": "https://localhost:8080/"
    },
    "id": "RvUKcja4rUEd",
    "outputId": "e68db6f1-2145-4601-903b-b57ee2e825fd"
   },
   "outputs": [
    {
     "name": "stdout",
     "output_type": "stream",
     "text": [
      "Accuracy: 0.9968021927820923\n",
      "Recall: 0.9991356957649092\n",
      "Precision: 0.9948364888123924\n",
      "Error Rate: 0.0034804505055551246\n"
     ]
    }
   ],
   "source": [
    "print(f\"Accuracy: {accuracy}\")\n",
    "print(f\"Recall: {recall}\")\n",
    "print(f\"Precision: {precision}\")\n",
    "print(f\"Error Rate: {error_rate}\")"
   ]
  },
  {
   "cell_type": "code",
   "execution_count": 11,
   "metadata": {
    "colab": {
     "base_uri": "https://localhost:8080/"
    },
    "id": "EvvBKt4obKjp",
    "outputId": "b9c3e3cd-04fd-478d-94b4-1c14fdd85be1"
   },
   "outputs": [],
   "source": [
    "#pip install pyspark streamlit"
   ]
  },
  {
   "cell_type": "code",
   "execution_count": 12,
   "metadata": {
    "colab": {
     "base_uri": "https://localhost:8080/"
    },
    "id": "TtLjgNqla0zy",
    "outputId": "50058eed-7662-4da9-9879-326e5a98daf0"
   },
   "outputs": [
    {
     "name": "stderr",
     "output_type": "stream",
     "text": [
      "2024-12-07 23:39:00.959 WARNING streamlit.runtime.scriptrunner_utils.script_run_context: Thread 'MainThread': missing ScriptRunContext! This warning can be ignored when running in bare mode.\n",
      "2024-12-07 23:39:01.435 \n",
      "  \u001b[33m\u001b[1mWarning:\u001b[0m to view this Streamlit app on a browser, run it with the following\n",
      "  command:\n",
      "\n",
      "    streamlit run C:\\Users\\hieud\\AppData\\Roaming\\Python\\Python312\\site-packages\\ipykernel_launcher.py [ARGUMENTS]\n",
      "2024-12-07 23:39:01.436 Thread 'MainThread': missing ScriptRunContext! This warning can be ignored when running in bare mode.\n",
      "2024-12-07 23:39:01.438 Thread 'MainThread': missing ScriptRunContext! This warning can be ignored when running in bare mode.\n",
      "2024-12-07 23:39:01.439 Thread 'MainThread': missing ScriptRunContext! This warning can be ignored when running in bare mode.\n",
      "2024-12-07 23:39:01.440 Thread 'MainThread': missing ScriptRunContext! This warning can be ignored when running in bare mode.\n",
      "2024-12-07 23:39:01.441 Thread 'MainThread': missing ScriptRunContext! This warning can be ignored when running in bare mode.\n",
      "2024-12-07 23:39:01.442 Thread 'MainThread': missing ScriptRunContext! This warning can be ignored when running in bare mode.\n",
      "2024-12-07 23:39:01.443 Thread 'MainThread': missing ScriptRunContext! This warning can be ignored when running in bare mode.\n",
      "2024-12-07 23:39:01.446 Thread 'MainThread': missing ScriptRunContext! This warning can be ignored when running in bare mode.\n",
      "2024-12-07 23:39:01.448 Session state does not function when running a script without `streamlit run`\n",
      "2024-12-07 23:39:01.449 Thread 'MainThread': missing ScriptRunContext! This warning can be ignored when running in bare mode.\n",
      "2024-12-07 23:39:01.450 Thread 'MainThread': missing ScriptRunContext! This warning can be ignored when running in bare mode.\n",
      "2024-12-07 23:39:01.452 Thread 'MainThread': missing ScriptRunContext! This warning can be ignored when running in bare mode.\n",
      "2024-12-07 23:39:01.453 Thread 'MainThread': missing ScriptRunContext! This warning can be ignored when running in bare mode.\n",
      "2024-12-07 23:39:01.454 Thread 'MainThread': missing ScriptRunContext! This warning can be ignored when running in bare mode.\n",
      "2024-12-07 23:39:01.456 Thread 'MainThread': missing ScriptRunContext! This warning can be ignored when running in bare mode.\n",
      "2024-12-07 23:39:01.457 Thread 'MainThread': missing ScriptRunContext! This warning can be ignored when running in bare mode.\n",
      "2024-12-07 23:39:01.459 Thread 'MainThread': missing ScriptRunContext! This warning can be ignored when running in bare mode.\n",
      "2024-12-07 23:39:01.460 Thread 'MainThread': missing ScriptRunContext! This warning can be ignored when running in bare mode.\n",
      "2024-12-07 23:39:01.460 Thread 'MainThread': missing ScriptRunContext! This warning can be ignored when running in bare mode.\n",
      "2024-12-07 23:39:01.462 Thread 'MainThread': missing ScriptRunContext! This warning can be ignored when running in bare mode.\n",
      "2024-12-07 23:39:01.463 Thread 'MainThread': missing ScriptRunContext! This warning can be ignored when running in bare mode.\n",
      "2024-12-07 23:39:01.469 Thread 'MainThread': missing ScriptRunContext! This warning can be ignored when running in bare mode.\n",
      "2024-12-07 23:39:01.470 Thread 'MainThread': missing ScriptRunContext! This warning can be ignored when running in bare mode.\n",
      "2024-12-07 23:39:01.471 Thread 'MainThread': missing ScriptRunContext! This warning can be ignored when running in bare mode.\n",
      "2024-12-07 23:39:01.472 Thread 'MainThread': missing ScriptRunContext! This warning can be ignored when running in bare mode.\n"
     ]
    }
   ],
   "source": [
    "from pyspark.sql import Row\n",
    "import streamlit as st\n",
    "\n",
    "# Hàm dự đoán\n",
    "def predict(features):\n",
    "    df = spark.createDataFrame([Row(features=features)])\n",
    "    predictions = loaded_model.transform(df)\n",
    "    return predictions.select(\"prediction\").collect()[0][\"prediction\"]\n",
    "\n",
    "# Giao diện Streamlit\n",
    "st.title(\"Dự đoán bằng Logistic Regression Model\")\n",
    "st.write(\"Nhập các giá trị đặc trưng để dự đoán:\")\n",
    "\n",
    "# Các ô nhập liệu\n",
    "feature1 = st.number_input(\"Feature 1\")\n",
    "feature2 = st.number_input(\"Feature 2\")\n",
    "feature3 = st.number_input(\"Feature 3\")\n",
    "\n",
    "# Nút dự đoán\n",
    "if st.button(\"Dự đoán\"):\n",
    "    features = [feature1, feature2, feature3]\n",
    "    prediction = predict(features)\n",
    "    st.success(f\"Kết quả dự đoán: {prediction}\")"
   ]
  },
  {
   "cell_type": "code",
   "execution_count": 13,
   "metadata": {
    "colab": {
     "base_uri": "https://localhost:8080/"
    },
    "id": "1AEkGYFa0RdZ",
    "outputId": "ac0b34c3-bfd9-401a-ffe0-82309de43254"
   },
   "outputs": [],
   "source": [
    "#pip install pyngrok"
   ]
  },
  {
   "cell_type": "code",
   "execution_count": 14,
   "metadata": {
    "colab": {
     "base_uri": "https://localhost:8080/"
    },
    "id": "l4q7S3LD1FoK",
    "outputId": "7d1ee098-b8cc-4c4e-fa0b-9074b70832df"
   },
   "outputs": [],
   "source": [
    "#ngrok config adduthtoken 2pW3utATq7Vh3WQRUc0HG4E7EsD_2oFZYfa9G4ssLyvYJ5jPr-a"
   ]
  },
  {
   "cell_type": "code",
   "execution_count": 15,
   "metadata": {
    "colab": {
     "base_uri": "https://localhost:8080/"
    },
    "id": "Z567bzQv0OUF",
    "outputId": "fe29901b-bebc-4932-b2ba-51df3d3d9647"
   },
   "outputs": [
    {
     "name": "stderr",
     "output_type": "stream",
     "text": [
      "t=2024-12-07T23:39:01+0700 lvl=warn msg=\"can't bind default web address, trying alternatives\" obj=web addr=127.0.0.1:4040\n"
     ]
    },
    {
     "name": "stdout",
     "output_type": "stream",
     "text": [
      "Streamlit app is live at: NgrokTunnel: \"https://9c57-2402-800-6312-4512-b42a-610c-c89a-2c86.ngrok-free.app\" -> \"http://localhost:8501\"\n"
     ]
    }
   ],
   "source": [
    "from pyngrok import ngrok\n",
    "\n",
    "# Start an ngrok tunnel to the Streamlit app\n",
    "public_url = ngrok.connect(8501)\n",
    "print(\"Streamlit app is live at:\", public_url)"
   ]
  },
  {
   "cell_type": "code",
   "execution_count": 16,
   "metadata": {
    "colab": {
     "base_uri": "https://localhost:8080/"
    },
    "id": "dMnH4WAzdd_i",
    "outputId": "1faa95f3-89e7-48d4-b099-20c3824e53c4"
   },
   "outputs": [
    {
     "name": "stderr",
     "output_type": "stream",
     "text": [
      "2024-12-07 23:39:04.982 Port 8502 is already in use\n"
     ]
    }
   ],
   "source": [
    "!streamlit run C:/Users/hieud/AppData/Roaming/Python/Python312/site-packages/ipykernel_launcher.py --server.port 8502"
   ]
  },
  {
   "cell_type": "code",
   "execution_count": 17,
   "metadata": {
    "colab": {
     "base_uri": "https://localhost:8080/"
    },
    "id": "9jsiF8I21WXD",
    "outputId": "0b62069d-60b4-4267-dd4c-e8607c41c768"
   },
   "outputs": [
    {
     "name": "stderr",
     "output_type": "stream",
     "text": [
      "ngrok - tunnel local ports to public URLs and inspect traffic\n",
      "\n",
      "USAGE:\n",
      "  ngrok [command] [flags]\n",
      "\n",
      "AUTHOR:\n",
      "  ngrok - <support@ngrok.com>\n",
      "\n",
      "COMMANDS: \n",
      "  config          update or migrate ngrok's configuration file\n",
      "  http            start an HTTP tunnel\n",
      "  tcp             start a TCP tunnel\n",
      "  tunnel          start a tunnel for use with a tunnel-group backend\n",
      "\n",
      "EXAMPLES: \n",
      "  ngrok http 80                                                 # secure public URL for port 80 web server\n",
      "  ngrok http --url baz.ngrok.dev 8080                           # port 8080 available at baz.ngrok.dev\n",
      "  ngrok tcp 22                                                  # tunnel arbitrary TCP traffic to port 22\n",
      "  ngrok http 80 --oauth=google --oauth-allow-email=foo@foo.com  # secure your app with oauth\n",
      "\n",
      "Paid Features: \n",
      "  ngrok http 80 --url mydomain.com                              # run ngrok with your own custom domain\n",
      "  ngrok http 80 --cidr-allow 2600:8c00::a03c:91ee:fe69:9695/32  # run ngrok with IP policy restrictions\n",
      "  Upgrade your account at https://dashboard.ngrok.com/billing/subscription to access paid features\n",
      "\n",
      "Upgrade your account at https://dashboard.ngrok.com/billing/subscription to access paid features\n",
      "\n",
      "Flags:\n",
      "  -h, --help      help for ngrok\n",
      "\n",
      "Use \"ngrok [command] --help\" for more information about a command.\n"
     ]
    }
   ],
   "source": [
    "!ngrok tunnels list"
   ]
  },
  {
   "cell_type": "code",
   "execution_count": 18,
   "metadata": {
    "id": "U2MhAGVQ6A89"
   },
   "outputs": [],
   "source": [
    "# Stop any existing ngrok tunnels\n",
    "ngrok.kill() # This ensures start fresh"
   ]
  },
  {
   "cell_type": "code",
   "execution_count": 19,
   "metadata": {
    "colab": {
     "base_uri": "https://localhost:8080/"
    },
    "id": "ta0lRI-t8o_U",
    "outputId": "94bae00c-36c7-4fcd-b716-5e657bfb3eed"
   },
   "outputs": [
    {
     "name": "stderr",
     "output_type": "stream",
     "text": [
      "  % Total    % Received % Xferd  Average Speed   Time    Time     Time  Current\n",
      "                                 Dload  Upload   Total   Spent    Left  Speed\n",
      "\n",
      "  0     0    0     0    0     0      0      0 --:--:-- --:--:-- --:--:--     0\n",
      "100   891  100   891    0     0   193k      0 --:--:-- --:--:-- --:--:--  217k\n"
     ]
    },
    {
     "name": "stdout",
     "output_type": "stream",
     "text": [
      "<!doctype html><html lang=\"en\"><head><meta charset=\"UTF-8\"/><meta name=\"viewport\" content=\"width=device-width,initial-scale=1,shrink-to-fit=no\"/><link rel=\"shortcut icon\" href=\"./favicon.png\"/><link rel=\"preload\" href=\"./static/media/SourceSansPro-Regular.0d69e5ff5e92ac64a0c9.woff2\" as=\"font\" type=\"font/woff2\" crossorigin><link rel=\"preload\" href=\"./static/media/SourceSansPro-SemiBold.abed79cd0df1827e18cf.woff2\" as=\"font\" type=\"font/woff2\" crossorigin><link rel=\"preload\" href=\"./static/media/SourceSansPro-Bold.118dea98980e20a81ced.woff2\" as=\"font\" type=\"font/woff2\" crossorigin><title>Streamlit</title><script>window.prerenderReady=!1</script><script defer=\"defer\" src=\"./static/js/main.33cac65c.js\"></script><link href=\"./static/css/main.5513bd04.css\" rel=\"stylesheet\"></head><body><noscript>You need to enable JavaScript to run this app.</noscript><div id=\"root\"></div></body></html>\n"
     ]
    }
   ],
   "source": [
    "!curl http://localhost:8502"
   ]
  }
 ],
 "metadata": {
  "colab": {
   "provenance": []
  },
  "kernelspec": {
   "display_name": "Python 3",
   "name": "python3"
  },
  "language_info": {
   "codemirror_mode": {
    "name": "ipython",
    "version": 3
   },
   "file_extension": ".py",
   "mimetype": "text/x-python",
   "name": "python",
   "nbconvert_exporter": "python",
   "pygments_lexer": "ipython3",
   "version": "3.12.0"
  }
 },
 "nbformat": 4,
 "nbformat_minor": 0
}
